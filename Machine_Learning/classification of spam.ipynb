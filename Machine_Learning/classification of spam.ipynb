{
 "cells": [
  {
   "cell_type": "code",
   "execution_count": null,
   "id": "7460dc0a",
   "metadata": {},
   "outputs": [],
   "source": [
    "#creating a spam model\n",
    "#runs once on a training data\n",
    "def train:\n",
    "    total = 0\n",
    "    numSpam = 0\n",
    "    for email in trainData:\n",
    "        if email.label == SPAM :\n",
    "            numSpam +=1\n",
    "            total += 1\n",
    "        processEmail(email.body , email.label):\n",
    "            pA = numSpam/float(total)\n",
    "            pNotA = (total - numSpam)/float(total)\n",
    "\n",
    "#reading words from a specific email\n",
    "def processEmail(body , label):\n",
    "    for word in body:\n",
    "        if label == SPAM：        \n",
    "            trainPositive[word] = trainPositive.get(word, 0)+1\n",
    "            positiveTotal += 1\n",
    "        else\n",
    "            trainNegative[word] = trainNegative.get(word, 0)+1\n",
    "            negativeTotal += 1\n",
    "#gives the conditional probability p(B_i/A_x)\n",
    "def conditionalEmail(body , spam) :\n",
    "    result =1.0\n",
    "    for word in body:\n",
    "        result *= conditionalWord(body , spam)\n",
    "    return result\n",
    "\n",
    "#classifies a new email as spam or not spam\n",
    "def classify(email):\n",
    "    isSpam = pA * conditionalEmail(email, True) \n",
    "    # P (A | B)\n",
    "    notSpam = pNotA * conditionalEmail(email, False) \n",
    "    # P(¬A | B)\n",
    "    return isSpam > notSpam\n",
    "\n",
    "#Laplace Smoothing for the words not present in the training set\n",
    "#gives the conditional probability p(B_i | A_x) with smoothing\n",
    "def conditionalWord(word, spam):\n",
    "    if spam:\n",
    "        return (trainPositive.get(word,0)+alpha)/(float) (positiveTotal+alpha*numWords)\n",
    "    return (trainNegative.get(word,0)+alpha)/(float)(negativeTotal+alpha*numWords)"
   ]
  }
 ],
 "metadata": {
  "kernelspec": {
   "display_name": "Python 3",
   "language": "python",
   "name": "python3"
  },
  "language_info": {
   "codemirror_mode": {
    "name": "ipython",
    "version": 3
   },
   "file_extension": ".py",
   "mimetype": "text/x-python",
   "name": "python",
   "nbconvert_exporter": "python",
   "pygments_lexer": "ipython3",
   "version": "3.8.8"
  }
 },
 "nbformat": 4,
 "nbformat_minor": 5
}
