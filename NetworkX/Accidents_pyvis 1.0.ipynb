{
 "cells": [
  {
   "cell_type": "code",
   "execution_count": 238,
   "id": "a32f91b0",
   "metadata": {},
   "outputs": [],
   "source": [
    "import networkx as nx\n",
    "import csv\n",
    "import matplotlib.pyplot as plt\n",
    "from pyvis.network import Network\n"
   ]
  },
  {
   "cell_type": "code",
   "execution_count": 239,
   "id": "a9256c3c",
   "metadata": {},
   "outputs": [],
   "source": [
    "class Accident:\n",
    "    def __init__(self, index, road_conditions, day, road_type, light):\n",
    "        self.index = index\n",
    "        self.road_conditions = road_conditions\n",
    "        self.day = day\n",
    "        self.road_type = road_type\n",
    "        self.light = light\n",
    "        "
   ]
  },
  {
   "cell_type": "code",
   "execution_count": 240,
   "id": "d9e1de39",
   "metadata": {},
   "outputs": [],
   "source": [
    "Accidents = []\n",
    "with open(\"Cycling accidents in the UK 2018.csv\") as csvfile:\n",
    "    reader = csv.DictReader(csvfile)\n",
    "    for row in reader:\n",
    "        index = row['index']\n",
    "        road_conditions = row['road_conditions']\n",
    "        day = row['day']\n",
    "        road_type = row['road_type']\n",
    "        light = row['light'].split(',')\n",
    "        Accidents.append(Accident(index, road_conditions, day, road_type, light))"
   ]
  },
  {
   "cell_type": "code",
   "execution_count": 241,
   "id": "21a66a47",
   "metadata": {},
   "outputs": [],
   "source": [
    "AccidentsGraph = Network(\"1000px\", \"1000px\", heading=\"Cycling accidents in the UK, 2018\")"
   ]
  },
  {
   "cell_type": "code",
   "execution_count": 242,
   "id": "b857e5f0",
   "metadata": {},
   "outputs": [],
   "source": [
    "AccidentsSubset = Accidents[0:30]"
   ]
  },
  {
   "cell_type": "code",
   "execution_count": 243,
   "id": "8e740c04",
   "metadata": {},
   "outputs": [],
   "source": [
    "for a in AccidentsSubset:\n",
    "    if int(a.day)<6:    #weekday\n",
    "        AccidentsGraph.add_node(a.index, index = a.index[:10], size = 3, color = 'purple')\n",
    "    elif int(a.day)>5:    #weekend\n",
    "        AccidentsGraph.add_node(a.index, index = a.index[:10], size = 6, color = 'yellow')"
   ]
  },
  {
   "cell_type": "code",
   "execution_count": 244,
   "id": "424d2f30",
   "metadata": {},
   "outputs": [],
   "source": [
    "for a1 in AccidentsSubset:\n",
    "    for a2 in AccidentsSubset:\n",
    "        if not a1 == a2:\n",
    "            if a1.road_conditions == a2.road_conditions:\n",
    "                AccidentsGraph.add_edge(a1.index, a2.index, color = 'orange')\n",
    "            if a1.road_type == a2.road_type:\n",
    "                AccidentsGraph.add_edge(a1.index, a2.index, color = 'grey')\n",
    "            if a1.light == a2.light:\n",
    "                AccidentsGraph.add_edge(a1.index, a2.index, color = 'green')"
   ]
  },
  {
   "cell_type": "code",
   "execution_count": 246,
   "id": "d591d598",
   "metadata": {},
   "outputs": [],
   "source": [
    "AccidentsGraph.show_buttons(filter_=['physics'])\n",
    "AccidentsGraph.show('accidents in the UK.html')"
   ]
  },
  {
   "cell_type": "code",
   "execution_count": 206,
   "id": "10aaecf2",
   "metadata": {},
   "outputs": [],
   "source": [
    "from networkx.algorithms import approximation as approx"
   ]
  },
  {
   "cell_type": "code",
   "execution_count": 207,
   "id": "9173aa04",
   "metadata": {},
   "outputs": [],
   "source": [
    "AccidentsGraph = nx.Graph()"
   ]
  },
  {
   "cell_type": "code",
   "execution_count": 208,
   "id": "88433c29",
   "metadata": {},
   "outputs": [],
   "source": [
    "for a in AccidentsSubset:\n",
    "    if int(a.day)<6:    #weekday\n",
    "        AccidentsGraph.add_node(a.index, index = a.index[:10], size = 3, color = 'blue')\n",
    "    elif int(a.day)>5:    #weekend\n",
    "        AccidentsGraph.add_node(a.index, index = a.index[:10], size = 6, color = 'yellow')"
   ]
  },
  {
   "cell_type": "code",
   "execution_count": 209,
   "id": "2a4da38c",
   "metadata": {},
   "outputs": [],
   "source": [
    "for a1 in AccidentsSubset:\n",
    "    for a2 in AccidentsSubset:\n",
    "        if not a1 == a2:\n",
    "            if a1.road_conditions == a2.road_conditions:\n",
    "                AccidentsGraph.add_edge(a1.index, a2.index, color = 'orange')\n",
    "            if a1.road_type == a2.road_type:\n",
    "                AccidentsGraph.add_edge(a1.index, a2.index, color = 'grey')\n",
    "            if a1.light == a2.light:\n",
    "                AccidentsGraph.add_edge(a1.index, a2.index, color = 'green')"
   ]
  },
  {
   "cell_type": "code",
   "execution_count": 210,
   "id": "c6a643a1",
   "metadata": {},
   "outputs": [
    {
     "data": {
      "text/plain": [
       "12"
      ]
     },
     "execution_count": 210,
     "metadata": {},
     "output_type": "execute_result"
    }
   ],
   "source": [
    "approx.node_connectivity(AccidentsGraph)"
   ]
  },
  {
   "cell_type": "code",
   "execution_count": 211,
   "id": "93ce561c",
   "metadata": {},
   "outputs": [],
   "source": [
    "AccidentsGraph1 = nx.Graph()"
   ]
  },
  {
   "cell_type": "code",
   "execution_count": 212,
   "id": "a657f445",
   "metadata": {},
   "outputs": [],
   "source": [
    "for a in AccidentsSubset:\n",
    "    if int(a.day)<6:    #weekday\n",
    "        AccidentsGraph1.add_node(a.index, index = a.index[:10], size = 3, color = 'blue')\n",
    "    elif int(a.day)>5:    #weekend\n",
    "        AccidentsGraph1.add_node(a.index, index = a.index[:10], size = 6, color = 'yellow')"
   ]
  },
  {
   "cell_type": "code",
   "execution_count": 213,
   "id": "e5b46a60",
   "metadata": {},
   "outputs": [],
   "source": [
    "for a1 in AccidentsSubset:\n",
    "    for a2 in AccidentsSubset:\n",
    "        if not a1 == a2:\n",
    "            if a1.road_conditions == a2.road_conditions:\n",
    "                AccidentsGraph1.add_edge(a1.index, a2.index, color = 'orange')\n",
    "            if a1.road_type == a2.road_type:\n",
    "                AccidentsGraph1.add_edge(a1.index, a2.index, color = 'grey')\n",
    "          "
   ]
  },
  {
   "cell_type": "code",
   "execution_count": 214,
   "id": "ed39541d",
   "metadata": {},
   "outputs": [
    {
     "data": {
      "text/plain": [
       "12"
      ]
     },
     "execution_count": 214,
     "metadata": {},
     "output_type": "execute_result"
    }
   ],
   "source": [
    "approx.node_connectivity(AccidentsGraph1)"
   ]
  },
  {
   "cell_type": "code",
   "execution_count": 215,
   "id": "28c457a7",
   "metadata": {},
   "outputs": [],
   "source": [
    "AccidentsGraph2 = nx.Graph()"
   ]
  },
  {
   "cell_type": "code",
   "execution_count": 216,
   "id": "51265f40",
   "metadata": {},
   "outputs": [],
   "source": [
    "for a in AccidentsSubset:\n",
    "    if int(a.day)<6:    #weekday\n",
    "        AccidentsGraph2.add_node(a.index, index = a.index[:10], size = 3, color = 'blue')\n",
    "    elif int(a.day)>5:    #weekend\n",
    "        AccidentsGraph2.add_node(a.index, index = a.index[:10], size = 6, color = 'yellow')"
   ]
  },
  {
   "cell_type": "code",
   "execution_count": 217,
   "id": "0cfc2df9",
   "metadata": {},
   "outputs": [],
   "source": [
    "for a1 in AccidentsSubset:\n",
    "    for a2 in AccidentsSubset:\n",
    "        if not a1 == a2:\n",
    "            if a1.road_conditions == a2.road_conditions:\n",
    "                AccidentsGraph2.add_edge(a1.index, a2.index, color = 'orange')\n",
    "            if a1.light == a2.light:\n",
    "                AccidentsGraph2.add_edge(a1.index, a2.index, color = 'green')"
   ]
  },
  {
   "cell_type": "code",
   "execution_count": 218,
   "id": "f94abd02",
   "metadata": {},
   "outputs": [
    {
     "data": {
      "text/plain": [
       "9"
      ]
     },
     "execution_count": 218,
     "metadata": {},
     "output_type": "execute_result"
    }
   ],
   "source": [
    "approx.node_connectivity(AccidentsGraph2)"
   ]
  },
  {
   "cell_type": "code",
   "execution_count": 219,
   "id": "2e68ad07",
   "metadata": {},
   "outputs": [],
   "source": [
    "AccidentsGraph3 = nx.Graph()"
   ]
  },
  {
   "cell_type": "code",
   "execution_count": 220,
   "id": "69f77110",
   "metadata": {},
   "outputs": [],
   "source": [
    "for a in AccidentsSubset:\n",
    "    if int(a.day)<6:    #weekday\n",
    "        AccidentsGraph3.add_node(a.index, index = a.index[:10], size = 3, color = 'blue')\n",
    "    elif int(a.day)>5:    #weekend\n",
    "        AccidentsGraph3.add_node(a.index, index = a.index[:10], size = 6, color = 'yellow')"
   ]
  },
  {
   "cell_type": "code",
   "execution_count": 221,
   "id": "99299c41",
   "metadata": {},
   "outputs": [],
   "source": [
    "for a1 in AccidentsSubset:\n",
    "    for a2 in AccidentsSubset:\n",
    "        if not a1 == a2:\n",
    "            if a1.road_type == a2.road_type:\n",
    "                AccidentsGraph3.add_edge(a1.index, a2.index, color = 'grey')\n",
    "            if a1.light == a2.light:\n",
    "                AccidentsGraph3.add_edge(a1.index, a2.index, color = 'green')"
   ]
  },
  {
   "cell_type": "code",
   "execution_count": 222,
   "id": "d40a294d",
   "metadata": {},
   "outputs": [
    {
     "data": {
      "text/plain": [
       "3"
      ]
     },
     "execution_count": 222,
     "metadata": {},
     "output_type": "execute_result"
    }
   ],
   "source": [
    "approx.node_connectivity(AccidentsGraph3)"
   ]
  },
  {
   "cell_type": "markdown",
   "id": "998ba8cb",
   "metadata": {},
   "source": [
    "Table information about cycling accidents in the UK in 2018. The orange line connects accidents with the same road conditions, the grey line connects accidents with the same road type and the green line connects accidents with the same road lighting. It is obvious that accidents often occur on the wet and darkness Single carriageway during the weekday.\n",
    "\n",
    "The interesting thing is: through ‘node_ Connectivity (g, s = none, t = none)’ explores the correlation between the three variables and finds that the road dry & wet conditions and road type are often the key factors for accidents. In contrast, the relationship between the three factors on accidents presents road type > road dry & wet conditions > road lighting conditions"
   ]
  }
 ],
 "metadata": {
  "kernelspec": {
   "display_name": "Python 3",
   "language": "python",
   "name": "python3"
  },
  "language_info": {
   "codemirror_mode": {
    "name": "ipython",
    "version": 3
   },
   "file_extension": ".py",
   "mimetype": "text/x-python",
   "name": "python",
   "nbconvert_exporter": "python",
   "pygments_lexer": "ipython3",
   "version": "3.8.8"
  }
 },
 "nbformat": 4,
 "nbformat_minor": 5
}
