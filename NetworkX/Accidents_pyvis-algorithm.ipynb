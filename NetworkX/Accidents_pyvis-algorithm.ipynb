{
 "cells": [
  {
   "cell_type": "code",
   "execution_count": 1,
   "id": "a32f91b0",
   "metadata": {},
   "outputs": [],
   "source": [
    "import networkx as nx\n",
    "import csv\n",
    "import matplotlib.pyplot as plt\n",
    "from pyvis.network import Network\n"
   ]
  },
  {
   "cell_type": "code",
   "execution_count": 2,
   "id": "a9256c3c",
   "metadata": {},
   "outputs": [],
   "source": [
    "class Accident:\n",
    "    def __init__(self, index, road_conditions, day, road_type, light):\n",
    "        self.index = index\n",
    "        self.road_conditions = road_conditions\n",
    "        self.day = day\n",
    "        self.road_type = road_type\n",
    "        self.light = light\n",
    "        "
   ]
  },
  {
   "cell_type": "code",
   "execution_count": 3,
   "id": "d9e1de39",
   "metadata": {},
   "outputs": [],
   "source": [
    "Accidents = []\n",
    "with open(\"Cycling accidents in the UK 2018.csv\") as csvfile:\n",
    "    reader = csv.DictReader(csvfile)\n",
    "    for row in reader:\n",
    "        index = row['index']\n",
    "        road_conditions = row['road_conditions']\n",
    "        day = row['day']\n",
    "        road_type = row['road_type']\n",
    "        light = row['light'].split(',')\n",
    "        Accidents.append(Accident(index, road_conditions, day, road_type, light))"
   ]
  },
  {
   "cell_type": "code",
   "execution_count": 4,
   "id": "21a66a47",
   "metadata": {},
   "outputs": [],
   "source": [
    "AccidentsGraph = nx.Graph()\n",
    "AccidentsSubset = Accidents[0:30]"
   ]
  },
  {
   "cell_type": "code",
   "execution_count": 5,
   "id": "8e740c04",
   "metadata": {},
   "outputs": [],
   "source": [
    "for a in AccidentsSubset:\n",
    "    if int(a.day)<6:    #weekday\n",
    "        AccidentsGraph.add_node(a.index, index = a.index[:10], size = 3, color = 'purple')\n",
    "    elif int(a.day)>5:    #weekend\n",
    "        AccidentsGraph.add_node(a.index, index = a.index[:10], size = 6, color = 'yellow')"
   ]
  },
  {
   "cell_type": "code",
   "execution_count": 6,
   "id": "424d2f30",
   "metadata": {},
   "outputs": [],
   "source": [
    "for a1 in AccidentsSubset:\n",
    "    for a2 in AccidentsSubset:\n",
    "        if not a1 == a2:\n",
    "            if a1.road_conditions == a2.road_conditions:\n",
    "                AccidentsGraph.add_edge(a1.index, a2.index, color = 'orange')\n",
    "            if a1.road_type == a2.road_type:\n",
    "                AccidentsGraph.add_edge(a1.index, a2.index, color = 'grey')\n",
    "            if a1.light == a2.light:\n",
    "                AccidentsGraph.add_edge(a1.index, a2.index, color = 'green')"
   ]
  },
  {
   "cell_type": "markdown",
   "id": "998ba8cb",
   "metadata": {},
   "source": [
    "Table information about cycling accidents in the UK in 2018. The orange line connects accidents with the same road conditions, the grey line connects accidents with the same road type and the green line connects accidents with the same road lighting."
   ]
  },
  {
   "cell_type": "code",
   "execution_count": 7,
   "id": "667540c3",
   "metadata": {},
   "outputs": [
    {
     "name": "stdout",
     "output_type": "stream",
     "text": [
      "{'2018/1/1 5:47': 30.0, '2018/1/1 10:45': 31.0, '2018/2/1 16:20': 30.0, '2018/2/1 17:45': 37.0, '2018/2/1 19:45': 30.0, '2018/2/1 20:10': 30.0, '2018/2/1 18:50': 38.0, '2018/3/1 9:20': 31.0, '2018/3/1 11:00': 31.0, '2018/3/1 14:00': 31.0, '2018/3/1 15:42': 37.0, '2018/3/1 7:55': 33.0, '2018/3/1 8:44': 34.0, '2018/4/1 7:30': 37.0, '2018/4/1 7:05': 29.0, '2018/4/1 6:50': 30.0, '2018/4/1 9:25': 30.0, '2018/4/1 16:45': 30.0, '2018/4/1 21:38': 30.0, '2018/5/1 8:27': 30.0, '2018/5/1 8:35': 30.0, '2018/5/1 8:20': 31.0, '2018/5/1 7:31': 33.0, '2018/5/1 17:45': 44.0, '2018/5/1 16:00': 31.0, '2018/5/1 18:10': 33.0, '2018/5/1 22:38': 30.0, '2018/4/1 19:00': 33.0, '2018/6/1 11:05': 30.0}\n"
     ]
    }
   ],
   "source": [
    "vitality = nx.closeness_vitality(AccidentsGraph)\n",
    "print(vitality)"
   ]
  },
  {
   "cell_type": "code",
   "execution_count": 8,
   "id": "11168a3c",
   "metadata": {},
   "outputs": [],
   "source": [
    "Vitality_Graph = nx.Graph()"
   ]
  },
  {
   "cell_type": "code",
   "execution_count": 9,
   "id": "0b8b96c4",
   "metadata": {},
   "outputs": [],
   "source": [
    "for a in AccidentsSubset:\n",
    "    if int(a.day)<6:    #weekday\n",
    "        Vitality_Graph.add_node(a.index, index = a.index[:10], size=int(0.3 * float('%.10f' %vitality[a.index])), color = '#40E0D0')\n",
    "    elif int(a.day)>5:    #weekend\n",
    "        Vitality_Graph.add_node(a.index, index = a.index[:10], size=int(0.3 * float('%.10f' %vitality[a.index])), color = '#FF6347')"
   ]
  },
  {
   "cell_type": "code",
   "execution_count": 10,
   "id": "daf64a72",
   "metadata": {},
   "outputs": [],
   "source": [
    "for a1 in AccidentsSubset:\n",
    "    for a2 in AccidentsSubset:\n",
    "        if not a1 == a2:\n",
    "            if a1.road_conditions == a2.road_conditions:\n",
    "                Vitality_Graph.add_edge(a1.index, a2.index, weight = 0.01, color = '#929591')\n",
    "            if a1.road_type == a2.road_type:\n",
    "                Vitality_Graph.add_edge(a1.index, a2.index, weight = 0.01, color = '#7BC8F6')\n",
    "            if a1.light == a2.light:\n",
    "                Vitality_Graph.add_edge(a1.index, a2.index, weight = 0.01, color = '#C79FEF')"
   ]
  },
  {
   "cell_type": "code",
   "execution_count": 13,
   "id": "7cd9fead",
   "metadata": {},
   "outputs": [],
   "source": [
    "na = Network(\"1000px\", \"1000px\", heading=\"Cycling accidents in the UK, 2018\")\n",
    "na.from_nx(Vitality_Graph)\n",
    "na.show_buttons(filter_=['physics'])\n",
    "na.show('accidents in the UK.html')"
   ]
  },
  {
   "cell_type": "markdown",
   "id": "5d1b85a0",
   "metadata": {},
   "source": [
    "Through the closeness_vitality of the points, it is obvious that the wet one-way street with dark light is most prone to cycling accidents during commuting on weekdays."
   ]
  }
 ],
 "metadata": {
  "kernelspec": {
   "display_name": "Python 3",
   "language": "python",
   "name": "python3"
  },
  "language_info": {
   "codemirror_mode": {
    "name": "ipython",
    "version": 3
   },
   "file_extension": ".py",
   "mimetype": "text/x-python",
   "name": "python",
   "nbconvert_exporter": "python",
   "pygments_lexer": "ipython3",
   "version": "3.8.8"
  }
 },
 "nbformat": 4,
 "nbformat_minor": 5
}
