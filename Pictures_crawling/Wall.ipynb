{
 "cells": [
  {
   "cell_type": "code",
   "execution_count": 36,
   "id": "bc5878b9",
   "metadata": {},
   "outputs": [],
   "source": [
    "import selenium\n",
    "from selenium import webdriver\n",
    "from PIL import Image\n",
    "import io\n",
    "import os\n",
    "import time\n",
    "import requests\n",
    "import hashlib"
   ]
  },
  {
   "cell_type": "code",
   "execution_count": 37,
   "id": "a181064c",
   "metadata": {},
   "outputs": [
    {
     "name": "stderr",
     "output_type": "stream",
     "text": [
      "<ipython-input-37-170965d5c59b>:2: DeprecationWarning: executable_path has been deprecated, please pass in a Service object\n",
      "  wd = webdriver.Chrome(executable_path= DRIVER_PATH)\n"
     ]
    }
   ],
   "source": [
    "DRIVER_PATH = 'C:\\Program Files (x86)\\Google\\Chrome\\Application\\chromedriver'\n",
    "wd = webdriver.Chrome(executable_path= DRIVER_PATH)"
   ]
  },
  {
   "cell_type": "code",
   "execution_count": 38,
   "id": "6ae26fcf",
   "metadata": {},
   "outputs": [],
   "source": [
    "wd.get('https://google.com')"
   ]
  },
  {
   "cell_type": "code",
   "execution_count": 40,
   "id": "eb6bf278",
   "metadata": {},
   "outputs": [
    {
     "name": "stderr",
     "output_type": "stream",
     "text": [
      "<ipython-input-40-befdfa5cff58>:1: DeprecationWarning: find_element_by_* commands are deprecated. Please use find_element() instead\n",
      "  search_box = wd.find_element_by_css_selector('input.gLFyf')\n"
     ]
    }
   ],
   "source": [
    "search_box = wd.find_element_by_css_selector('input.gLFyf')\n",
    "search_box.send_keys('Facades')\n"
   ]
  },
  {
   "cell_type": "code",
   "execution_count": 41,
   "id": "9f1c9b89",
   "metadata": {},
   "outputs": [],
   "source": [
    "wd.quit()"
   ]
  },
  {
   "cell_type": "code",
   "execution_count": 42,
   "id": "820df9a9",
   "metadata": {},
   "outputs": [],
   "source": [
    "def fetch_image_urls(query:str, max_links_to_fetch:int, wd:webdriver, sleep_between_interactions:int=1):\n",
    "    def scroll_to_end(wd):\n",
    "        wd.execute_script(\"window.scrollTo(0, document.body.scrollHeight);\")\n",
    "        time.sleep(sleep_between_interactions)    \n",
    "    \n",
    "    # build the google query\n",
    "    search_url = \"https://www.google.com/search?safe=off&site=&tbm=isch&source=hp&q={q}&oq={q}&gs_l=img\"\n",
    "\n",
    "    # load the page\n",
    "    wd.get(search_url.format(q=query))\n",
    "\n",
    "    image_urls = set()\n",
    "    image_count = 0\n",
    "    results_start = 0\n",
    "    while image_count < max_links_to_fetch:\n",
    "        scroll_to_end(wd)\n",
    "\n",
    "        # get all image thumbnail results\n",
    "        thumbnail_results = wd.find_elements_by_css_selector(\"img.Q4LuWd\")\n",
    "        number_results = len(thumbnail_results)\n",
    "        \n",
    "        print(f\"Found: {number_results} search results. Extracting links from {results_start}:{number_results}\")\n",
    "        \n",
    "        for img in thumbnail_results[results_start:number_results]:\n",
    "            # try to click every thumbnail such that we can get the real image behind it\n",
    "            try:\n",
    "                img.click()\n",
    "                time.sleep(sleep_between_interactions)\n",
    "            except Exception:\n",
    "                continue\n",
    "\n",
    "            # extract image urls    \n",
    "            actual_images = wd.find_elements_by_css_selector('img.n3VNCb')\n",
    "            for actual_image in actual_images:\n",
    "                if actual_image.get_attribute('src') and 'http' in actual_image.get_attribute('src'):\n",
    "                    image_urls.add(actual_image.get_attribute('src'))\n",
    "\n",
    "            image_count = len(image_urls)\n",
    "\n",
    "            if len(image_urls) >= max_links_to_fetch:\n",
    "                print(f\"Found: {len(image_urls)} image links, done!\")\n",
    "                break\n",
    "        else:\n",
    "            print(\"Found:\", len(image_urls), \"image links, looking for more ...\")\n",
    "            time.sleep(30)\n",
    "            return\n",
    "            load_more_button = wd.find_element_by_css_selector(\".mye4qd\")\n",
    "            if load_more_button:\n",
    "                wd.execute_script(\"document.querySelector('.mye4qd').click();\")\n",
    "\n",
    "        # move the result startpoint further down\n",
    "        results_start = len(thumbnail_results)\n",
    "\n",
    "    return image_urls"
   ]
  },
  {
   "cell_type": "code",
   "execution_count": 43,
   "id": "71026075",
   "metadata": {},
   "outputs": [],
   "source": [
    "def persist_image(folder_path:str,url:str):\n",
    "    try:\n",
    "        image_content = requests.get(url).content\n",
    "\n",
    "    except Exception as e:\n",
    "        print(f\"ERROR - Could not download {url} - {e}\")\n",
    "\n",
    "    try:\n",
    "        image_file = io.BytesIO(image_content)\n",
    "        image = Image.open(image_file).convert('RGB')\n",
    "        file_path = os.path.join(folder_path,hashlib.sha1(image_content).hexdigest()[:10] + '.jpg')\n",
    "        with open(file_path, 'wb') as f:\n",
    "            image.save(f, \"JPEG\", quality=85)\n",
    "        print(f\"SUCCESS - saved {url} - as {file_path}\")\n",
    "    except Exception as e:\n",
    "        print(f\"ERROR - Could not save {url} - {e}\")"
   ]
  },
  {
   "cell_type": "code",
   "execution_count": 44,
   "id": "8e87aa51",
   "metadata": {},
   "outputs": [],
   "source": [
    "def search_and_download(search_term:str,driver_path:str,target_path='./images/',number_images=100):\n",
    "    target_folder = os.path.join(target_path,'_'.join(search_term.lower().split(' ')))\n",
    "\n",
    "    if not os.path.exists(target_folder):\n",
    "        os.makedirs(target_folder)\n",
    "\n",
    "    with webdriver.Chrome(executable_path=driver_path) as wd:\n",
    "        res = fetch_image_urls(search_term, number_images, wd=wd, sleep_between_interactions=0.1)\n",
    "        \n",
    "    for elem in res:\n",
    "        persist_image(target_folder,elem)"
   ]
  },
  {
   "cell_type": "code",
   "execution_count": 45,
   "id": "baa7a37f",
   "metadata": {},
   "outputs": [
    {
     "name": "stderr",
     "output_type": "stream",
     "text": [
      "<ipython-input-44-7ab28c06d935>:7: DeprecationWarning: executable_path has been deprecated, please pass in a Service object\n",
      "  with webdriver.Chrome(executable_path=driver_path) as wd:\n",
      "<ipython-input-42-6fae6806c786>:19: DeprecationWarning: find_elements_by_* commands are deprecated. Please use find_elements() instead\n",
      "  thumbnail_results = wd.find_elements_by_css_selector(\"img.Q4LuWd\")\n"
     ]
    },
    {
     "name": "stdout",
     "output_type": "stream",
     "text": [
      "Found: 100 search results. Extracting links from 0:100\n"
     ]
    },
    {
     "name": "stderr",
     "output_type": "stream",
     "text": [
      "<ipython-input-42-6fae6806c786>:33: DeprecationWarning: find_elements_by_* commands are deprecated. Please use find_elements() instead\n",
      "  actual_images = wd.find_elements_by_css_selector('img.n3VNCb')\n"
     ]
    },
    {
     "name": "stdout",
     "output_type": "stream",
     "text": [
      "Found: 101 image links, done!\n",
      "SUCCESS - saved https://encrypted-tbn0.gstatic.com/images?q=tbn:ANd9GcQhQtzLBUKhUJCBky81Fj4cfIbKShk4QMgtdg&usqp=CAU - as ./images/facades\\4588e3632f.jpg\n",
      "SUCCESS - saved https://encrypted-tbn0.gstatic.com/images?q=tbn:ANd9GcTLQZahZD4Tv-6tjQ5MCINugJJyGW4aGfd4eg&usqp=CAU - as ./images/facades\\42ce604e43.jpg\n",
      "SUCCESS - saved https://cdnassets.hw.net/86/c4/218385bd469bbd685b89b3b2f003/mediafacade-detail-hero.jpg - as ./images/facades\\b8a4930fc3.jpg\n",
      "SUCCESS - saved https://encrypted-tbn0.gstatic.com/images?q=tbn:ANd9GcQcmmywai6M5xPerzcRvMYPTnPDOIWzZmuBmA&usqp=CAU - as ./images/facades\\9e871254eb.jpg\n",
      "SUCCESS - saved https://www.archivibe.com/wp-content/uploads/2021/04/ARCHIVIBE-cover-glass-architecture-Mario-Frusca_4.jpg - as ./images/facades\\0567c0b247.jpg\n",
      "SUCCESS - saved https://encrypted-tbn0.gstatic.com/images?q=tbn:ANd9GcRK7TUEhqGP8bK0jmZ87KcwM3ir12x-ygyXIQ&usqp=CAU - as ./images/facades\\d4e6d13392.jpg\n",
      "SUCCESS - saved https://encrypted-tbn0.gstatic.com/images?q=tbn:ANd9GcQQEeYfQvZHf0ljvuKOAErGLBbDsxIHwMafSA&usqp=CAU - as ./images/facades\\07074f5c3e.jpg\n",
      "SUCCESS - saved https://www.re-thinkingthefuture.com/wp-content/uploads/2021/01/A2849-How-to-make-facades-useful-in-design.jpg - as ./images/facades\\8050b15ca6.jpg\n",
      "SUCCESS - saved https://www.maplesunscreening.co.uk/hs-fs/hubfs/type%20of%20facades%20header%20image.jpg?width=1000&name=type%20of%20facades%20header%20image.jpg - as ./images/facades\\aea7ab5067.jpg\n",
      "SUCCESS - saved https://encrypted-tbn0.gstatic.com/images?q=tbn:ANd9GcTeYjUDRdIcj-XJ2soxYUlTpd6uJ7Y453RNTw&usqp=CAU - as ./images/facades\\47719568a1.jpg\n",
      "SUCCESS - saved https://ks-kentico-prod-cdn-endpoint.azureedge.net/netxstoreviews/webHeroStandardLarge2/109291.jpg - as ./images/facades\\6e09680830.jpg\n",
      "SUCCESS - saved https://encrypted-tbn0.gstatic.com/images?q=tbn:ANd9GcT_aHwy9wQ4VL2IddwknRd_ll9z1Tp-Uc1mGQ&usqp=CAU - as ./images/facades\\4bd9dcf2a3.jpg\n",
      "SUCCESS - saved https://encrypted-tbn0.gstatic.com/images?q=tbn:ANd9GcSeOkc3Cr9BkFsuAhJI5Xl2EA7brtEDoGmfzg&usqp=CAU - as ./images/facades\\c886d0757b.jpg\n",
      "SUCCESS - saved https://www.marazzigroup.com/media/filer_public_thumbnails/filer_public/d7/c7/d7c7fe5c-2ee9-48ca-bbe6-c7d0de772ecf/marazzi_edificio-g-area-martinelli.jpg__300.0x300.0_q85_crop_subject_location-150%2C150_subsampling-2_upscale.jpg - as ./images/facades\\75c43c6f59.jpg\n",
      "SUCCESS - saved https://encrypted-tbn0.gstatic.com/images?q=tbn:ANd9GcRb7kExTe5jqjbLElQmgdrwJlsnctWrFWNTOg&usqp=CAU - as ./images/facades\\b057047803.jpg\n",
      "SUCCESS - saved https://encrypted-tbn0.gstatic.com/images?q=tbn:ANd9GcSdIdc-yAhJ8cWdiP7B397v-MVK_DgPGS6V0A&usqp=CAU - as ./images/facades\\34fd764539.jpg\n",
      "SUCCESS - saved https://encrypted-tbn0.gstatic.com/images?q=tbn:ANd9GcRdqKRnlZSh4jfdySk3QZ4O35cdW3tiXJC6Tw&usqp=CAU - as ./images/facades\\89b51e9ec4.jpg\n",
      "SUCCESS - saved https://encrypted-tbn0.gstatic.com/images?q=tbn:ANd9GcSNQlZf6vrEAP9XllzCmxhEdWoDkD8NQ424lg&usqp=CAU - as ./images/facades\\042426285d.jpg\n",
      "SUCCESS - saved https://www.azuremagazine.com/wp-content/uploads/2019/05/metallic-facades-azure-hero-1600x900.jpg - as ./images/facades\\c940b41949.jpg\n",
      "SUCCESS - saved https://encrypted-tbn0.gstatic.com/images?q=tbn:ANd9GcT5t-AaNcEQpj4JK4vqTbuHOtEzzV-U_wXKsg&usqp=CAU - as ./images/facades\\0ccc6c990f.jpg\n",
      "SUCCESS - saved https://encrypted-tbn0.gstatic.com/images?q=tbn:ANd9GcQxOIhxj2pW4FeDmmXiHo0VbWcTOMazQRwHXQ&usqp=CAU - as ./images/facades\\b55acfab6d.jpg\n",
      "SUCCESS - saved https://encrypted-tbn0.gstatic.com/images?q=tbn:ANd9GcSQHl5rILG-XVe6TMVSIs6WrybYUGgupP9B0Q&usqp=CAU - as ./images/facades\\aacb87f770.jpg\n",
      "SUCCESS - saved https://encrypted-tbn0.gstatic.com/images?q=tbn:ANd9GcRXIpFQeFvJuOHn5UZIZOXb--zF60FcLAb1UQ&usqp=CAU - as ./images/facades\\015186ccaf.jpg\n",
      "SUCCESS - saved https://design-milk.com/images/2017/03/Roundup-CoolBuildings-1-VM-Houses-BIG-JDS.jpg - as ./images/facades\\1c8d0dccde.jpg\n",
      "SUCCESS - saved https://www.sageglass.com/sites/default/files/rte/blog_double-skin_facades2.jpg - as ./images/facades\\275be4bf3f.jpg\n",
      "SUCCESS - saved https://encrypted-tbn0.gstatic.com/images?q=tbn:ANd9GcTgYVKVFeDnBzKTRFHBb2nDueL5H6FAvLW_AQ&usqp=CAU - as ./images/facades\\d949bdcbab.jpg\n",
      "SUCCESS - saved https://encrypted-tbn0.gstatic.com/images?q=tbn:ANd9GcQaW1m4qlH5uN4o2jEQ1SieD12XWqRxkqUNEA&usqp=CAU - as ./images/facades\\4c2f7c3023.jpg\n",
      "SUCCESS - saved https://seele.com/fileadmin/_processed_/6/1/csm_K11_Home_600_x_450_7e7eba78a4.jpg - as ./images/facades\\e4d4d59b35.jpg\n",
      "SUCCESS - saved https://encrypted-tbn0.gstatic.com/images?q=tbn:ANd9GcQGKGJikMQvSdh7v9AYokEGWHU8LmHVuM6Y5g&usqp=CAU - as ./images/facades\\deebe5a9bf.jpg\n",
      "SUCCESS - saved https://encrypted-tbn0.gstatic.com/images?q=tbn:ANd9GcTIvGOZ6HvehVFg5rM8SnlngJOWrWxOAIUXcA&usqp=CAU - as ./images/facades\\044752501c.jpg\n",
      "SUCCESS - saved https://encrypted-tbn0.gstatic.com/images?q=tbn:ANd9GcRmpbbWRp2jYok8NMfcldFQbHTKYPNMVv6eWw&usqp=CAU - as ./images/facades\\516a88e513.jpg\n",
      "SUCCESS - saved https://encrypted-tbn0.gstatic.com/images?q=tbn:ANd9GcTdGttjzyAFGKbjWeDizMtxCQl4u4ex9U8sjg&usqp=CAU - as ./images/facades\\8a3a8fc32a.jpg\n",
      "ERROR - Could not save https://img.edilportale.com/product-thumbs/b_prodotti-126043-rel2bdb00b67a154055934190b6ce7e2d2a.jpg - cannot identify image file <_io.BytesIO object at 0x000001AC305AAC70>\n",
      "SUCCESS - saved https://i.guim.co.uk/img/media/37b913ac6da6c37fd27cb25d0242669f9ce66daf/0_0_2531_3543/master/2531.jpg?width=700&quality=85&auto=format&fit=max&s=d1d1fcfb5aeec83d754474381800b012 - as ./images/facades\\c460c2b16b.jpg\n",
      "SUCCESS - saved https://www.pharoscontrols.com/wp-content/uploads/2020/10/Facades-06.jpg - as ./images/facades\\4cae6ac2f8.jpg\n",
      "SUCCESS - saved https://encrypted-tbn0.gstatic.com/images?q=tbn:ANd9GcSB49m7SMrwTVa-ea9n9KghP38d6co4pq3H0g&usqp=CAU - as ./images/facades\\b95cf745a8.jpg\n",
      "SUCCESS - saved https://encrypted-tbn0.gstatic.com/images?q=tbn:ANd9GcQNbEZEu71CeehPrZmDKRgkWYTSZWV8HwtXXA&usqp=CAU - as ./images/facades\\dbeb0f8c0d.jpg\n",
      "SUCCESS - saved https://encrypted-tbn0.gstatic.com/images?q=tbn:ANd9GcStFASCCEvoP9VlQSjIlM6UtvHJsKOYNd9guA&usqp=CAU - as ./images/facades\\493ac78b29.jpg\n",
      "SUCCESS - saved https://encrypted-tbn0.gstatic.com/images?q=tbn:ANd9GcRgZutu8GsdEKQxTiBazUp4icwkUntl7shmQQ&usqp=CAU - as ./images/facades\\affc7d4c97.jpg\n",
      "SUCCESS - saved https://www.thoughtco.com/thmb/eNhPkl7Itec7v6sdZu7M2e-EdXc=/2229x1672/smart/filters:no_upscale()/facade-533797085-crop-56aad88b3df78cf772b49350.jpg - as ./images/facades\\9431aaad69.jpg\n",
      "SUCCESS - saved https://i.pinimg.com/736x/90/64/7a/90647a6cf0455816ec8b6d546444b0f8.jpg - as ./images/facades\\56d7b43073.jpg\n",
      "SUCCESS - saved https://ssabwebsitecdn.azureedge.net/-/media/images/greencoat/facade/1280x720-greencoat-facade-i02-profiles.jpg?m=20210301092516 - as ./images/facades\\4b60d134c5.jpg\n",
      "SUCCESS - saved https://i.guim.co.uk/img/media/50885927675839c170526cee45b13d0d8971d308/0_0_2531_3543/master/2531.jpg?width=700&quality=85&auto=format&fit=max&s=20a8b1f93c0e35878e622b318cdfc15c - as ./images/facades\\0b8a3ce24c.jpg\n",
      "SUCCESS - saved https://encrypted-tbn0.gstatic.com/images?q=tbn:ANd9GcSVnuQbee7RsYWGNjMGYXHnLsMO8lnjHlfbPw&usqp=CAU - as ./images/facades\\87011d2434.jpg\n",
      "SUCCESS - saved https://i1.wp.com/www.galvanizing.org.uk/app/uploads/2019/12/facades.jpg?fit=1500%2C500&ssl=1&resize=1200%2C900 - as ./images/facades\\a68aca44d1.jpg\n",
      "SUCCESS - saved https://encrypted-tbn0.gstatic.com/images?q=tbn:ANd9GcTiR69jIyJ9X9MUqPOmKomA5LKmIoHZI8zq6A&usqp=CAU - as ./images/facades\\8c8367b1aa.jpg\n",
      "SUCCESS - saved https://encrypted-tbn0.gstatic.com/images?q=tbn:ANd9GcTGjmHeWfcodGOjUrjqMwXTY8niGBpqvSrXfg&usqp=CAU - as ./images/facades\\162bc530e2.jpg\n",
      "SUCCESS - saved https://image.geze.com/im/StageSpezial/pboxx-pixelboxx-47195/Des - as ./images/facades\\3b9277734c.jpg\n",
      "SUCCESS - saved https://encrypted-tbn0.gstatic.com/images?q=tbn:ANd9GcT92xquRmH4F6DVPLFIrChhnQ3DWx170JOyEQ&usqp=CAU - as ./images/facades\\d005d820fb.jpg\n",
      "SUCCESS - saved https://encrypted-tbn0.gstatic.com/images?q=tbn:ANd9GcT7BNED_OpDlZm-WtHLsdtrGxWaf4ScCEYebA&usqp=CAU - as ./images/facades\\f04b60f24a.jpg\n",
      "SUCCESS - saved https://seele.com/fileadmin/_processed_/a/f/csm__c_RobertMetsch_01_2af7d6229d.jpg - as ./images/facades\\9b5ee5edf3.jpg\n",
      "SUCCESS - saved https://www.heringinternational.com/fileadmin/images/hac/referenzen/gr-KHT-2069.jpg - as ./images/facades\\4fa98310fb.jpg\n",
      "SUCCESS - saved https://encrypted-tbn0.gstatic.com/images?q=tbn:ANd9GcSR3bh7iHI1dj9YYxwNz8PkHZxVJzA1Ai4lLA&usqp=CAU - as ./images/facades\\045d7bd71e.jpg\n"
     ]
    },
    {
     "name": "stdout",
     "output_type": "stream",
     "text": [
      "SUCCESS - saved https://www.neuffer.de/sites/de/files/img/window-types/modern-window-facade.jpg - as ./images/facades\\f2c943506d.jpg\n",
      "SUCCESS - saved https://architizer-prod.imgix.net/media/1452080910305Bagh_Jannat_-_Exterior_01.jpg?fit=max&w=1680&q=60&auto=format&auto=compress&cs=strip - as ./images/facades\\3d6036d7fa.jpg\n",
      "SUCCESS - saved https://www.laminam.com/wp-content/uploads/sites/2/2021/07/slider-external-facades-mobile.jpg - as ./images/facades\\97f620b65c.jpg\n",
      "SUCCESS - saved https://encrypted-tbn0.gstatic.com/images?q=tbn:ANd9GcSxlExSdtJNe4kwVhQ65YZC7eqze_hOzj5-6w&usqp=CAU - as ./images/facades\\65df459c4c.jpg\n",
      "SUCCESS - saved https://encrypted-tbn0.gstatic.com/images?q=tbn:ANd9GcQ3LQrJW46gvjb0smsjrI52vrJ283sAFVspgA&usqp=CAU - as ./images/facades\\cfd5f7597f.jpg\n",
      "SUCCESS - saved https://encrypted-tbn0.gstatic.com/images?q=tbn:ANd9GcRiYyXxALcxivOREwhOvZI9gNM4dsfn9mb3xQ&usqp=CAU - as ./images/facades\\d6b45caf01.jpg\n",
      "SUCCESS - saved https://static.dezeen.com/uploads/2016/06/office-block-tehran-lp2-architecture-studio-iran-commercial-facade-connection-relationship-interior-exterior-wood_dezeen_1568_8.jpg - as ./images/facades\\0be72ab34d.jpg\n",
      "SUCCESS - saved https://www.g-u.com/fileadmin/user_upload/Images/Loesungen/Systemloesungen/fassadenloesung-gretsch-unitas-zaha-hadid-parallelausstell-beschlag_slider.jpg - as ./images/facades\\b90481ceca.jpg\n",
      "SUCCESS - saved https://i.guim.co.uk/img/media/f677dc629c88602d27ee43319f2a3d5ae0e0af70/0_0_3543_2834/master/3543.jpg?width=700&quality=85&auto=format&fit=max&s=65847ebb824e2abde8b78b07619e32a2 - as ./images/facades\\60ca8cde66.jpg\n",
      "SUCCESS - saved https://www.re-thinkingthefuture.com/wp-content/uploads/2021/02/A3141-10-Examples-of-Unique-Wood-Facades-Image-2.jpg - as ./images/facades\\85e9e4dfce.jpg\n",
      "SUCCESS - saved https://encrypted-tbn0.gstatic.com/images?q=tbn:ANd9GcRCxmbu-TwpkHzUbE67-4Y7Ir6Qu_HW3jkbOw&usqp=CAU - as ./images/facades\\68069e1575.jpg\n",
      "SUCCESS - saved https://encrypted-tbn0.gstatic.com/images?q=tbn:ANd9GcSnKbx5NBVJBAOHNNEQglgQRpQYXFQxS8wI2g&usqp=CAU - as ./images/facades\\47b9b6a901.jpg\n",
      "SUCCESS - saved https://images.adsttc.com/media/images/5d37/14a1/284d/d1e3/7200/0070/medium_jpg/Dacian_Groza.jpg?1563890834 - as ./images/facades\\accd416d80.jpg\n",
      "ERROR - Could not save https://www.porcelanosa.com/trendbook/app/uploads/2021/04/opt.Instalacion-Modfacade-Butech-Porcelanosa-3.jpg - cannot identify image file <_io.BytesIO object at 0x000001AC2F42EF40>\n",
      "SUCCESS - saved https://encrypted-tbn0.gstatic.com/images?q=tbn:ANd9GcRfBMMP9PZssIPoz2UZPHIvMC7IZOT8ilW5Aw&usqp=CAU - as ./images/facades\\9a85c00213.jpg\n",
      "SUCCESS - saved https://image.architonic.com/sto3-2/20167896/rand-elliott-oklahoma-contemporary-arts-architonic-1-20-0063-okcontemporary-randelliott-009-05-arcit18.jpg - as ./images/facades\\332e026ab0.jpg\n",
      "SUCCESS - saved https://www.ulmaarchitectural.com/en/facade-cladding/home-features/fourth-line/art/@@images/393a5f76-0a79-4cff-8ce1-6e79847dee06.jpeg - as ./images/facades\\e9abfb5da0.jpg\n",
      "SUCCESS - saved https://encrypted-tbn0.gstatic.com/images?q=tbn:ANd9GcRNIC4H6w1SggHdSB7D86_lFDZV2A9IU5xZXw&usqp=CAU - as ./images/facades\\0a54bcbe85.jpg\n",
      "SUCCESS - saved https://i.pinimg.com/originals/bb/d2/25/bbd2252809a2da87a5170b26e5608e37.jpg - as ./images/facades\\135c00404c.jpg\n",
      "SUCCESS - saved https://encrypted-tbn0.gstatic.com/images?q=tbn:ANd9GcRHbDTtKNWzNT2fQnaO84yOif_7rRYaoWi2kQ&usqp=CAU - as ./images/facades\\a0d826f9cf.jpg\n",
      "SUCCESS - saved https://encrypted-tbn0.gstatic.com/images?q=tbn:ANd9GcTBEeyDOIjS15q9SAthhdfkyDQeuj-m2xPLuQ&usqp=CAU - as ./images/facades\\3c911280b3.jpg\n",
      "SUCCESS - saved https://encrypted-tbn0.gstatic.com/images?q=tbn:ANd9GcSiMIc8QL1V4pk-eDjjj7pmP8PmSUmaWv8ung&usqp=CAU - as ./images/facades\\10a9c2cdf8.jpg\n",
      "SUCCESS - saved https://encrypted-tbn0.gstatic.com/images?q=tbn:ANd9GcRlgdyGH8WGW9RgvdjI7o5cD4LZvg0vfELcww&usqp=CAU - as ./images/facades\\c308a2454d.jpg\n",
      "SUCCESS - saved https://encrypted-tbn0.gstatic.com/images?q=tbn:ANd9GcTJukiN9QdcealImbNO387OrgUJGoJK84gwrQ&usqp=CAU - as ./images/facades\\03a7f686d5.jpg\n",
      "SUCCESS - saved https://alliancefacades.com/wp-content/uploads/curtainwalling_alliancefacades.jpg - as ./images/facades\\ea4ba5d905.jpg\n",
      "SUCCESS - saved https://encrypted-tbn0.gstatic.com/images?q=tbn:ANd9GcR7vKe8g_SQQRwN-8MDmHTrgEpKCDu-RYBIqw&usqp=CAU - as ./images/facades\\61d1c986cd.jpg\n",
      "SUCCESS - saved https://ars.els-cdn.com/content/image/1-s2.0-S092658052031030X-gr14.jpg - as ./images/facades\\27f6ba467a.jpg\n",
      "SUCCESS - saved https://encrypted-tbn0.gstatic.com/images?q=tbn:ANd9GcTio85W3ZvV9LS4tTBEJNexw_PPQGxW4oUcJg&usqp=CAU - as ./images/facades\\ccacd17ff7.jpg\n",
      "SUCCESS - saved https://encrypted-tbn0.gstatic.com/images?q=tbn:ANd9GcRBs6kLfD764qeooTCEVyp9hb2X4ZLBHU2I6A&usqp=CAU - as ./images/facades\\ab84e949e0.jpg\n",
      "SUCCESS - saved https://weburbanist.com/wp-content/uploads/2016/06/facades-fish-3.jpg - as ./images/facades\\a163572a87.jpg\n",
      "SUCCESS - saved https://encrypted-tbn0.gstatic.com/images?q=tbn:ANd9GcRsxKvxqY7PYsI610BrwadnEdJ8TXpopie6qQ&usqp=CAU - as ./images/facades\\edffc2deab.jpg\n",
      "SUCCESS - saved https://encrypted-tbn0.gstatic.com/images?q=tbn:ANd9GcTvuUsc1W4D6DloA_xeksYsSpTx0Eu9fxio6g&usqp=CAU - as ./images/facades\\400b05f490.jpg\n",
      "SUCCESS - saved https://cdn.sculptform.com.au/app/uploads/2018/08/20134150/Editorial-Facades-Masthead.jpg - as ./images/facades\\1b4b8f125c.jpg\n",
      "ERROR - Could not save https://www.montanstahl.com/wp-content/uploads/2018/04/Edelstahl-Fassade.jpg - cannot identify image file <_io.BytesIO object at 0x000001AC305B1A40>\n",
      "ERROR - Could not save https://www.accoya.com/app/uploads/2020/03/Accoya-facade-Royal-Arena-hero-image--1900x1068.jpg - cannot identify image file <_io.BytesIO object at 0x000001AC305B1A40>\n",
      "SUCCESS - saved https://encrypted-tbn0.gstatic.com/images?q=tbn:ANd9GcQWbMiwDpxkJEOtG7ogEY4DdHmlgfcQ7USzHw&usqp=CAU - as ./images/facades\\fe97bec6db.jpg\n",
      "SUCCESS - saved https://images.adsttc.com/media/images/5d84/e93d/284d/d136/3200/0747/large_jpg/futurium-dacian-groza-20180124-06466_Kopie.jpg?1568991542 - as ./images/facades\\51c4fdb016.jpg\n",
      "SUCCESS - saved https://www.wsp.com/-/media/Project/Global/Image/engineering-the-national-music-centre-canada-exterior-view.jpg?h=710&la=en-GL&w=1440&hash=976BDDB25F845EFA6FC455854E39C40C860AEA01 - as ./images/facades\\10c200736d.jpg\n",
      "SUCCESS - saved https://neufert-cdn.archdaily.net/uploads/photo/image/209430/full_Haver___Boecker_Facades-6.JPG?v=1619122544 - as ./images/facades\\532605d3e6.jpg\n",
      "SUCCESS - saved https://encrypted-tbn0.gstatic.com/images?q=tbn:ANd9GcTR_e0erBfA8HYTbbtyMrWGQE5weZZrXNYqyQ&usqp=CAU - as ./images/facades\\f18970db0b.jpg\n",
      "SUCCESS - saved https://i.guim.co.uk/img/media/42a1ba60102b68e64c056f0f4c84459c42f83626/0_0_2531_3543/master/2531.jpg?width=300&quality=85&auto=format&fit=max&s=b72ca1ddab602842108140b3a0afbb99 - as ./images/facades\\435630e4d9.jpg\n",
      "SUCCESS - saved https://encrypted-tbn0.gstatic.com/images?q=tbn:ANd9GcRb6kgYI9JvLsWKloskb2iiGpjrJt8dqGzZHw&usqp=CAU - as ./images/facades\\14b652584d.jpg\n",
      "ERROR - Could not save https://www.metadecor.eu/wp-content/uploads/2022/01/Aluminum-facade-cladding-Kunstenpand-1672x903.jpg - cannot identify image file <_io.BytesIO object at 0x000001AC305B1A40>\n",
      "SUCCESS - saved https://www.constrofacilitator.com/wp-content/uploads/2020/12/facades-1.jpg - as ./images/facades\\eca90c90f2.jpg\n",
      "SUCCESS - saved https://encrypted-tbn0.gstatic.com/images?q=tbn:ANd9GcTv_Q0IbBdmm5_xzSzwTj-eek3_IuPXjPTZIw&usqp=CAU - as ./images/facades\\c82ef34f9a.jpg\n",
      "SUCCESS - saved https://encrypted-tbn0.gstatic.com/images?q=tbn:ANd9GcT6xJPqov3gXR3LB6rstPheYCTjdMkAF4UAlA&usqp=CAU - as ./images/facades\\759d4d14f7.jpg\n",
      "SUCCESS - saved https://encrypted-tbn0.gstatic.com/images?q=tbn:ANd9GcR5pdv08LqttwZnXN6KucYtc9wMuls3bpB_zg&usqp=CAU - as ./images/facades\\6487cb0bea.jpg\n",
      "SUCCESS - saved https://www.sto.com/media/images/home/19491_1200.jpg - as ./images/facades\\ee76086a18.jpg\n"
     ]
    }
   ],
   "source": [
    "search_term = 'Facades'\n",
    "search_and_download(\n",
    "search_term = search_term,\n",
    "    driver_path = DRIVER_PATH\n",
    ")"
   ]
  },
  {
   "cell_type": "code",
   "execution_count": null,
   "id": "8886eac2",
   "metadata": {},
   "outputs": [],
   "source": []
  }
 ],
 "metadata": {
  "kernelspec": {
   "display_name": "Python 3",
   "language": "python",
   "name": "python3"
  },
  "language_info": {
   "codemirror_mode": {
    "name": "ipython",
    "version": 3
   },
   "file_extension": ".py",
   "mimetype": "text/x-python",
   "name": "python",
   "nbconvert_exporter": "python",
   "pygments_lexer": "ipython3",
   "version": "3.8.8"
  }
 },
 "nbformat": 4,
 "nbformat_minor": 5
}
